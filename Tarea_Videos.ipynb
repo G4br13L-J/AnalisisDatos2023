{
  "nbformat": 4,
  "nbformat_minor": 0,
  "metadata": {
    "colab": {
      "provenance": [],
      "authorship_tag": "ABX9TyMHV+ICaagitbNh4l3LqFOS",
      "include_colab_link": true
    },
    "kernelspec": {
      "name": "python3",
      "display_name": "Python 3"
    },
    "language_info": {
      "name": "python"
    }
  },
  "cells": [
    {
      "cell_type": "markdown",
      "metadata": {
        "id": "view-in-github",
        "colab_type": "text"
      },
      "source": [
        "<a href=\"https://colab.research.google.com/github/G4br13L-J/AnalisisDatos2023/blob/main/Tarea_Videos.ipynb\" target=\"_parent\"><img src=\"https://colab.research.google.com/assets/colab-badge.svg\" alt=\"Open In Colab\"/></a>"
      ]
    },
    {
      "cell_type": "code",
      "execution_count": null,
      "metadata": {
        "colab": {
          "base_uri": "https://localhost:8080/"
        },
        "id": "8lLgnzH82mPw",
        "outputId": "e75c2887-78e4-4f8a-8b07-4686daf54618"
      },
      "outputs": [
        {
          "output_type": "stream",
          "name": "stdout",
          "text": [
            "Ejercicio 1: Año Bisiesto.\n",
            "Ingrese el año -> 2004\n",
            "El año SÍ es bisiesto.\n"
          ]
        }
      ],
      "source": [
        "print(\"Ejercicio 1: Año Bisiesto.\")\n",
        "annio = int(input(\"Ingrese el año -> \"))\n",
        "if (annio % 400 == 0) or (annio % 4 == 0) and (annio % 100 != 0):\n",
        "  print(\"El año SÍ es bisiesto.\")\n",
        "else:\n",
        "  print(\"El año NO es bisiesto.\")"
      ]
    },
    {
      "cell_type": "code",
      "source": [
        "print(\"Ejercicio 2: Switch.\")\n",
        "switch = {1: \"Enero\", 2: \"Febrero\", 3: \"Marzo\", 4: \"Abril\", 5: \"Mayo\", 6: \"Junio\", 7: \"Julio\", 8: \"Agosto\", 9: \"Setiembre\", 10: \"Octubre\", 11: \"Noviembre\", 12: \"Diciembre\"}\n",
        "opcion = int(input(\"Ingrese un numero -> \"))\n",
        "print(switch.get(opcion, \"Mes inválido\"))"
      ],
      "metadata": {
        "colab": {
          "base_uri": "https://localhost:8080/"
        },
        "id": "2qwSR3Ee5cVl",
        "outputId": "772dfe63-35c1-4449-ee03-13967ab9fa74"
      },
      "execution_count": null,
      "outputs": [
        {
          "output_type": "stream",
          "name": "stdout",
          "text": [
            "Ejercicio 2: Switch.\n",
            "Ingrese un numero -> 3\n",
            "Marzo\n"
          ]
        }
      ]
    },
    {
      "cell_type": "code",
      "source": [
        "print(\"Ejercicio 3: Ciclos.\")\n",
        "C = -1\n",
        "I = 0\n",
        "M = 0\n",
        "while(C < 0) or (I <= 0) or (M <= 0):\n",
        "  print(\"Introduzca el Capital, Interés y tiempo: \")\n",
        "  C = int(input(\"Capital -> \"))\n",
        "  I = int(input(\"Interés -> \"))\n",
        "  M = int(input(\"Tiempo en años -> \"))\n",
        "for i in range (M):\n",
        "  C = C*(1 + I/100)\n",
        "  print(\"Monto\", C, \"Colones\")\n"
      ],
      "metadata": {
        "colab": {
          "base_uri": "https://localhost:8080/"
        },
        "id": "QgQN3NDl7BYm",
        "outputId": "9786606b-52db-43a0-b247-8466d36bc5c9"
      },
      "execution_count": null,
      "outputs": [
        {
          "output_type": "stream",
          "name": "stdout",
          "text": [
            "Ejercicio 3: Ciclos.\n",
            "Introduzca el Capital, Interés y tiempo: \n",
            "Capital -> 1000\n",
            "Interés -> 10\n",
            "Tiempo en años -> 20\n",
            "Monto 1100.0 Colones\n",
            "Monto 1210.0 Colones\n",
            "Monto 1331.0 Colones\n",
            "Monto 1464.1000000000001 Colones\n",
            "Monto 1610.5100000000002 Colones\n",
            "Monto 1771.5610000000004 Colones\n",
            "Monto 1948.7171000000005 Colones\n",
            "Monto 2143.5888100000006 Colones\n",
            "Monto 2357.9476910000008 Colones\n",
            "Monto 2593.742460100001 Colones\n",
            "Monto 2853.1167061100014 Colones\n",
            "Monto 3138.4283767210018 Colones\n",
            "Monto 3452.271214393102 Colones\n",
            "Monto 3797.4983358324125 Colones\n",
            "Monto 4177.248169415654 Colones\n",
            "Monto 4594.97298635722 Colones\n",
            "Monto 5054.470284992943 Colones\n",
            "Monto 5559.917313492238 Colones\n",
            "Monto 6115.909044841462 Colones\n",
            "Monto 6727.499949325608 Colones\n"
          ]
        }
      ]
    },
    {
      "cell_type": "code",
      "source": [
        "print(\"Ejercicio 4: Divisores.\")\n",
        "numero = int(input(\"Ingrese un número ->\"))\n",
        "while numero > 0:\n",
        "  suma = 0\n",
        "  for i in range(1,numero+1):\n",
        "    if (numero % i == 0):\n",
        "      suma = suma + i\n",
        "  print(suma)\n",
        "  numero = (int(input(\"Ingrese un número ->\")))"
      ],
      "metadata": {
        "colab": {
          "base_uri": "https://localhost:8080/"
        },
        "id": "s6xHwpfz-5Zn",
        "outputId": "1f2eac37-7464-4ac5-9e3a-9315b564506d"
      },
      "execution_count": null,
      "outputs": [
        {
          "name": "stdout",
          "output_type": "stream",
          "text": [
            "Ejercicio 4: Divisores.\n",
            "Ingrese un número ->10\n",
            "18\n",
            "Ingrese un número ->0\n"
          ]
        }
      ]
    }
  ]
}