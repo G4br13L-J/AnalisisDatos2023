{
  "nbformat": 4,
  "nbformat_minor": 0,
  "metadata": {
    "colab": {
      "provenance": [],
      "authorship_tag": "ABX9TyO71ZjawS/CAkOtghRPUjeg",
      "include_colab_link": true
    },
    "kernelspec": {
      "name": "python3",
      "display_name": "Python 3"
    },
    "language_info": {
      "name": "python"
    }
  },
  "cells": [
    {
      "cell_type": "markdown",
      "metadata": {
        "id": "view-in-github",
        "colab_type": "text"
      },
      "source": [
        "<a href=\"https://colab.research.google.com/github/G4br13L-J/AnalisisDatos2023/blob/main/Lab3Individual.ipynb\" target=\"_parent\"><img src=\"https://colab.research.google.com/assets/colab-badge.svg\" alt=\"Open In Colab\"/></a>"
      ]
    },
    {
      "cell_type": "code",
      "execution_count": null,
      "metadata": {
        "colab": {
          "base_uri": "https://localhost:8080/"
        },
        "id": "w6YV_1CJkda0",
        "outputId": "77e842b2-c2ff-40a5-842c-cdf090158a34"
      },
      "outputs": [
        {
          "output_type": "stream",
          "name": "stdout",
          "text": [
            "       ID      Country  Year  \\\n",
            "0       4  Afghanistan  2010   \n",
            "1       4  Afghanistan  2018   \n",
            "2       4  Afghanistan  2018   \n",
            "3       4  Afghanistan  2018   \n",
            "4       8      Albania  2005   \n",
            "...   ...          ...   ...   \n",
            "3558  716     Zimbabwe  2008   \n",
            "3559  716     Zimbabwe  2008   \n",
            "3560  716     Zimbabwe  2008   \n",
            "3561  716     Zimbabwe  2010   \n",
            "3562  716     Zimbabwe  2012   \n",
            "\n",
            "                                                 Series  Value Footnotes  \\\n",
            "0                Intentional homicide rates per 100,000    3.4       NaN   \n",
            "1                Intentional homicide rates per 100,000    6.7       NaN   \n",
            "2     Percentage of male and female intentional homi...   12.2       NaN   \n",
            "3     Percentage of male and female intentional homi...    0.8       NaN   \n",
            "4                Intentional homicide rates per 100,000    5.0       NaN   \n",
            "...                                                 ...    ...       ...   \n",
            "3558                Assault rate per 100,000 population  414.0       NaN   \n",
            "3559  Kidnapping at the national level, rate per 100...    1.8       NaN   \n",
            "3560  Theft at the national level, rate per 100,000 ...  738.8       NaN   \n",
            "3561             Intentional homicide rates per 100,000    5.6       NaN   \n",
            "3562             Intentional homicide rates per 100,000    7.5       NaN   \n",
            "\n",
            "                                                 Source  \n",
            "0     United Nations Office on Drugs and Crime (UNOD...  \n",
            "1     United Nations Office on Drugs and Crime (UNOD...  \n",
            "2     United Nations Office on Drugs and Crime (UNOD...  \n",
            "3     United Nations Office on Drugs and Crime (UNOD...  \n",
            "4     United Nations Office on Drugs and Crime (UNOD...  \n",
            "...                                                 ...  \n",
            "3558  United Nations Office on Drugs and Crime (UNOD...  \n",
            "3559  United Nations Office on Drugs and Crime (UNOD...  \n",
            "3560  United Nations Office on Drugs and Crime (UNOD...  \n",
            "3561  United Nations Office on Drugs and Crime (UNOD...  \n",
            "3562  United Nations Office on Drugs and Crime (UNOD...  \n",
            "\n",
            "[3563 rows x 7 columns]\n",
            "       ID                     Country  Year  \\\n",
            "1       4                 Afghanistan  2018   \n",
            "2       4                 Afghanistan  2018   \n",
            "3       4                 Afghanistan  2018   \n",
            "26      8                     Albania  2018   \n",
            "27      8                     Albania  2018   \n",
            "...   ...                         ...   ...   \n",
            "3534  862  Venezuela (Boliv. Rep. of)  2018   \n",
            "3535  862  Venezuela (Boliv. Rep. of)  2018   \n",
            "3536  862  Venezuela (Boliv. Rep. of)  2018   \n",
            "3537  862  Venezuela (Boliv. Rep. of)  2018   \n",
            "3538  862  Venezuela (Boliv. Rep. of)  2018   \n",
            "\n",
            "                                                 Series  Value Footnotes  \\\n",
            "1                Intentional homicide rates per 100,000    6.7       NaN   \n",
            "2     Percentage of male and female intentional homi...   12.2       NaN   \n",
            "3     Percentage of male and female intentional homi...    0.8       NaN   \n",
            "26               Intentional homicide rates per 100,000    2.3       NaN   \n",
            "27    Percentage of male and female intentional homi...    3.5       NaN   \n",
            "...                                                 ...    ...       ...   \n",
            "3534             Intentional homicide rates per 100,000   36.7       NaN   \n",
            "3535  Percentage of male and female intentional homi...   61.9       NaN   \n",
            "3536  Percentage of male and female intentional homi...   10.7       NaN   \n",
            "3537                Assault rate per 100,000 population    6.5       NaN   \n",
            "3538  Kidnapping at the national level, rate per 100...    0.7       NaN   \n",
            "\n",
            "                                                 Source  \n",
            "1     United Nations Office on Drugs and Crime (UNOD...  \n",
            "2     United Nations Office on Drugs and Crime (UNOD...  \n",
            "3     United Nations Office on Drugs and Crime (UNOD...  \n",
            "26    United Nations Office on Drugs and Crime (UNOD...  \n",
            "27    United Nations Office on Drugs and Crime (UNOD...  \n",
            "...                                                 ...  \n",
            "3534  United Nations Office on Drugs and Crime (UNOD...  \n",
            "3535  United Nations Office on Drugs and Crime (UNOD...  \n",
            "3536  United Nations Office on Drugs and Crime (UNOD...  \n",
            "3537  United Nations Office on Drugs and Crime (UNOD...  \n",
            "3538  United Nations Office on Drugs and Crime (UNOD...  \n",
            "\n",
            "[462 rows x 7 columns]\n"
          ]
        }
      ],
      "source": [
        "import pandas as pd\n",
        "import matplotlib.pyplot as plt\n",
        "\n",
        "df=pd.read_csv('/content/CSVInvestigation.csv')\n",
        "data=pd.DataFrame(df)\n",
        "print(data)\n",
        "\n",
        "data = data.astype({\"Value\": float})\n",
        "dataFiltered2018 = data.loc[(data['Year'] == 2018)]\n",
        "print(dataFiltered2018)"
      ]
    },
    {
      "cell_type": "code",
      "source": [
        "# 5 Paises con mayor indice de criminalidad.\n",
        "\n",
        "dataFiltered = data.loc[(data['Series'] == \"Intentional homicide rates per 100,000\")]\n",
        "print(dataFiltered.sort_values(by = ['Value'], ascending = False)[['Country','Value']].head(5))"
      ],
      "metadata": {
        "colab": {
          "base_uri": "https://localhost:8080/"
        },
        "id": "T5r1LZrAmiLW",
        "outputId": "35db50cf-18b9-4777-aa22-0a0d986dcae5"
      },
      "execution_count": null,
      "outputs": [
        {
          "output_type": "stream",
          "name": "stdout",
          "text": [
            "                    Country  Value\n",
            "1099            El Salvador  105.2\n",
            "1448               Honduras   75.0\n",
            "2813  Saint Kitts and Nevis   68.8\n",
            "1091            El Salvador   64.5\n",
            "1085            El Salvador   64.1\n"
          ]
        }
      ]
    },
    {
      "cell_type": "code",
      "source": [
        "dataFiltered = data.loc[(data['Series'] == \"Intentional homicide rates per 100,000\")]\n",
        "print(dataFiltered.sort_values(by = ['Value'], ascending = True)[['Country','Value']].head(5))"
      ],
      "metadata": {
        "colab": {
          "base_uri": "https://localhost:8080/"
        },
        "id": "MSw_DR90omMv",
        "outputId": "4f3d5788-e5dd-45c5-a494-95cb567fbe12"
      },
      "execution_count": null,
      "outputs": [
        {
          "output_type": "stream",
          "name": "stdout",
          "text": [
            "                        Country  Value\n",
            "2196                 Montserrat    0.0\n",
            "3350   Turks and Caicos Islands    0.0\n",
            "2831  Saint Pierre and Miquelon    0.0\n",
            "3355                     Tuvalu    0.0\n",
            "2865                 San Marino    0.0\n"
          ]
        }
      ]
    },
    {
      "cell_type": "code",
      "source": [
        "# El crimen mas repetido por pais para el annio 2018\n",
        "print(dataFiltered2018['Series'].value_counts())"
      ],
      "metadata": {
        "colab": {
          "base_uri": "https://localhost:8080/"
        },
        "id": "bxnoo-XIqGzW",
        "outputId": "62dcf024-78a4-4fa4-9323-94d2496ef8e4"
      },
      "execution_count": null,
      "outputs": [
        {
          "output_type": "stream",
          "name": "stdout",
          "text": [
            "Intentional homicide rates per 100,000                                91\n",
            "Assault rate per 100,000 population                                   82\n",
            "Theft at the national level, rate per 100,000 population              75\n",
            "Percentage of male and female intentional homicide victims, Male      74\n",
            "Percentage of male and female intentional homicide victims, Female    73\n",
            "Kidnapping at the national level, rate per 100,000                    67\n",
            "Name: Series, dtype: int64\n"
          ]
        }
      ]
    },
    {
      "cell_type": "code",
      "source": [
        "# Crimmen con el porcentaje mas alto en CR en el annio 2005\n",
        "\n",
        "dataFilteredCR = data.loc[(data['Country']==\"Costa Rica\")&(data['Year']==2005)]\n",
        "print(dataFilteredCR)\n",
        "print(dataFilteredCR.sort_values(by=['Value'], ascending = False)[['Country','Series','Value']])"
      ],
      "metadata": {
        "colab": {
          "base_uri": "https://localhost:8080/"
        },
        "id": "79CQ_uj_qYw2",
        "outputId": "446cd9d6-c2bf-42e1-a486-1d2bf62570c9"
      },
      "execution_count": null,
      "outputs": [
        {
          "output_type": "stream",
          "name": "stdout",
          "text": [
            "      ID     Country  Year                                             Series  \\\n",
            "844  188  Costa Rica  2005             Intentional homicide rates per 100,000   \n",
            "845  188  Costa Rica  2005  Percentage of male and female intentional homi...   \n",
            "846  188  Costa Rica  2005  Percentage of male and female intentional homi...   \n",
            "847  188  Costa Rica  2005  Kidnapping at the national level, rate per 100...   \n",
            "848  188  Costa Rica  2005  Theft at the national level, rate per 100,000 ...   \n",
            "\n",
            "     Value Footnotes                                             Source  \n",
            "844    7.8       NaN  United Nations Office on Drugs and Crime (UNOD...  \n",
            "845   12.7       NaN  United Nations Office on Drugs and Crime (UNOD...  \n",
            "846    2.9       NaN  United Nations Office on Drugs and Crime (UNOD...  \n",
            "847    0.3       NaN  United Nations Office on Drugs and Crime (UNOD...  \n",
            "848  195.1       NaN  United Nations Office on Drugs and Crime (UNOD...  \n",
            "        Country                                             Series  Value\n",
            "848  Costa Rica  Theft at the national level, rate per 100,000 ...  195.1\n",
            "845  Costa Rica  Percentage of male and female intentional homi...   12.7\n",
            "844  Costa Rica             Intentional homicide rates per 100,000    7.8\n",
            "846  Costa Rica  Percentage of male and female intentional homi...    2.9\n",
            "847  Costa Rica  Kidnapping at the national level, rate per 100...    0.3\n"
          ]
        }
      ]
    },
    {
      "cell_type": "code",
      "source": [
        "# Comparativa entre CR, Nicaragua y Panama por medio de la tasa\n",
        "\n",
        "registro = df.loc[(df[\"Country\"] == \"Costa Rica\") | (df[\"Country\"] == \"Panama\") | (df[\"Country\"] == \"Nicaragua\")]\n",
        "print(registro)"
      ],
      "metadata": {
        "colab": {
          "base_uri": "https://localhost:8080/"
        },
        "id": "T1ZDKOOLs2eS",
        "outputId": "27084314-b28a-4ce2-e963-95e431d325c3"
      },
      "execution_count": null,
      "outputs": [
        {
          "output_type": "stream",
          "name": "stdout",
          "text": [
            "       ID     Country  Year  \\\n",
            "844   188  Costa Rica  2005   \n",
            "845   188  Costa Rica  2005   \n",
            "846   188  Costa Rica  2005   \n",
            "847   188  Costa Rica  2005   \n",
            "848   188  Costa Rica  2005   \n",
            "...   ...         ...   ...   \n",
            "2488  591      Panama  2018   \n",
            "2489  591      Panama  2018   \n",
            "2490  591      Panama  2018   \n",
            "2491  591      Panama  2018   \n",
            "2492  591      Panama  2018   \n",
            "\n",
            "                                                 Series  Value Footnotes  \\\n",
            "844              Intentional homicide rates per 100,000    7.8       NaN   \n",
            "845   Percentage of male and female intentional homi...   12.7       NaN   \n",
            "846   Percentage of male and female intentional homi...    2.9       NaN   \n",
            "847   Kidnapping at the national level, rate per 100...    0.3       NaN   \n",
            "848   Theft at the national level, rate per 100,000 ...  195.1       NaN   \n",
            "...                                                 ...    ...       ...   \n",
            "2488  Percentage of male and female intentional homi...   17.0       NaN   \n",
            "2489  Percentage of male and female intentional homi...    1.8       NaN   \n",
            "2490                Assault rate per 100,000 population  102.1       NaN   \n",
            "2491  Kidnapping at the national level, rate per 100...    0.4       NaN   \n",
            "2492  Theft at the national level, rate per 100,000 ...  395.7       NaN   \n",
            "\n",
            "                                                 Source  \n",
            "844   United Nations Office on Drugs and Crime (UNOD...  \n",
            "845   United Nations Office on Drugs and Crime (UNOD...  \n",
            "846   United Nations Office on Drugs and Crime (UNOD...  \n",
            "847   United Nations Office on Drugs and Crime (UNOD...  \n",
            "848   United Nations Office on Drugs and Crime (UNOD...  \n",
            "...                                                 ...  \n",
            "2488  United Nations Office on Drugs and Crime (UNOD...  \n",
            "2489  United Nations Office on Drugs and Crime (UNOD...  \n",
            "2490  United Nations Office on Drugs and Crime (UNOD...  \n",
            "2491  United Nations Office on Drugs and Crime (UNOD...  \n",
            "2492  United Nations Office on Drugs and Crime (UNOD...  \n",
            "\n",
            "[73 rows x 7 columns]\n"
          ]
        }
      ]
    },
    {
      "cell_type": "code",
      "source": [
        "registro = df[\"Year\"]\n",
        "annio = registro.mode()\n",
        "print(annio)"
      ],
      "metadata": {
        "colab": {
          "base_uri": "https://localhost:8080/"
        },
        "id": "XcM2iG3EtjII",
        "outputId": "2b9a166f-a819-41d9-b547-c296595d6a28"
      },
      "execution_count": null,
      "outputs": [
        {
          "output_type": "stream",
          "name": "stdout",
          "text": [
            "0    2010\n",
            "Name: Year, dtype: int64\n"
          ]
        }
      ]
    },
    {
      "cell_type": "code",
      "source": [
        "# Genero mas afectado en crimenes en promedio en el 2018\n",
        "\n",
        "dataFilteredByGender=dataFiltered2018.loc[((dataFiltered2018['Series']==\"Percentage of male and female intentional homicide victims, Male\")|\n",
        " (dataFiltered2018['Series']==\"Percentage of male and female intentional homicide victims, Female\"))].groupby('Series')['Value']\n",
        "print(dataFilteredByGender.mean())"
      ],
      "metadata": {
        "colab": {
          "base_uri": "https://localhost:8080/"
        },
        "id": "I_-HEkAjufwv",
        "outputId": "8cf9eaa9-299e-476c-f4d8-2872d9fbddf7"
      },
      "execution_count": null,
      "outputs": [
        {
          "output_type": "stream",
          "name": "stdout",
          "text": [
            "Series\n",
            "Percentage of male and female intentional homicide victims, Female    1.697260\n",
            "Percentage of male and female intentional homicide victims, Male      8.908108\n",
            "Name: Value, dtype: float64\n"
          ]
        }
      ]
    }
  ]
}