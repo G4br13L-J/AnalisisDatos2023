{
  "cells": [
    {
      "cell_type": "markdown",
      "metadata": {
        "id": "view-in-github",
        "colab_type": "text"
      },
      "source": [
        "<a href=\"https://colab.research.google.com/github/G4br13L-J/AnalisisDatos2023/blob/main/Laboratorio1.ipynb\" target=\"_parent\"><img src=\"https://colab.research.google.com/assets/colab-badge.svg\" alt=\"Open In Colab\"/></a>"
      ]
    },
    {
      "cell_type": "code",
      "execution_count": null,
      "metadata": {
        "colab": {
          "background_save": true,
          "base_uri": "https://localhost:8080/"
        },
        "id": "TiOAjz7LyNLt",
        "outputId": "251be3d3-329b-49b4-ae93-7272db26f38e"
      },
      "outputs": [
        {
          "name": "stdout",
          "output_type": "stream",
          "text": [
            "Promedio de temperaturas\n"
          ]
        }
      ],
      "source": [
        "#PROGRAMADORES GABRIEL CHAVARRIA, GABRIEL JIMÉNEZ, ANTHONY LI, DIDIER MIRANDA\n",
        "import statistics # Librería con los cálculos estadísticos que se necesitan\n",
        "print(\"Promedio de temperaturas\")\n",
        "Suma = 0\n",
        "Media = 0\n",
        "Temp = []\n",
        "N = int(input(\"Cantidad de temperaturas que se desean calcular: \"))\n",
        "\n",
        "for i in range(N):\n",
        "  temperatura = float(input(\"Ingrese la temperatura: \"))\n",
        "  Temp.append(temperatura)\n",
        "  Suma = Suma + Temp[i]\n",
        "Media = Suma/N\n",
        "\n",
        "print(\"Media: \", Media)\n",
        "\n",
        "moda = statistics.mode(Temp) # La moda consiste en temperatura que más se repite en la lista\n",
        "\n",
        "print(\"Moda: \", moda)\n",
        "\n",
        "mediana = statistics.median(Temp)  # La mediana es el valor central del conjunto de las temperaturas\n",
        "\n",
        "print(\"Mediana: \", mediana)\n",
        "\n",
        "desviacion = statistics.stdev(Temp)# La desviación estándar es la raíz cuadrada de la varianza. Proporciona una medida de dispersión similar a la varianza, pero en la misma unidad de medida que los datos originales con respecto a las temperaturas\n",
        "\n",
        "print(\"Desviación Estándar: \", desviacion)\n",
        "\n",
        "varianza = statistics.variance(Temp) # Indica la dispersión con respecto a la media de las temperaturas\n",
        "\n",
        "print(\"Varianza: \", varianza)\n"
      ]
    }
  ],
  "metadata": {
    "colab": {
      "provenance": [],
      "authorship_tag": "ABX9TyP1QMOO+ZbF37rD3txgHzFK",
      "include_colab_link": true
    },
    "kernelspec": {
      "display_name": "Python 3",
      "name": "python3"
    },
    "language_info": {
      "name": "python"
    }
  },
  "nbformat": 4,
  "nbformat_minor": 0
}