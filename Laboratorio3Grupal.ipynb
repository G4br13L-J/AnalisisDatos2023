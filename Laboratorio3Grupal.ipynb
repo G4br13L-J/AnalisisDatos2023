{
  "nbformat": 4,
  "nbformat_minor": 0,
  "metadata": {
    "colab": {
      "provenance": [],
      "include_colab_link": true
    },
    "kernelspec": {
      "name": "python3",
      "display_name": "Python 3"
    },
    "language_info": {
      "name": "python"
    }
  },
  "cells": [
    {
      "cell_type": "markdown",
      "metadata": {
        "id": "view-in-github",
        "colab_type": "text"
      },
      "source": [
        "<a href=\"https://colab.research.google.com/github/G4br13L-J/AnalisisDatos2023/blob/main/Laboratorio3Grupal.ipynb\" target=\"_parent\"><img src=\"https://colab.research.google.com/assets/colab-badge.svg\" alt=\"Open In Colab\"/></a>"
      ]
    },
    {
      "cell_type": "code",
      "execution_count": null,
      "metadata": {
        "colab": {
          "base_uri": "https://localhost:8080/"
        },
        "id": "nyn9etIUCcQi",
        "outputId": "f0509278-7905-4388-ba01-b42929030070"
      },
      "outputs": [
        {
          "output_type": "stream",
          "name": "stdout",
          "text": [
            "    Nombre  Edad    Ciudad Seccion\n",
            "0      Ana    23  San Jose       A\n",
            "1  Esteban    22   Heredia       B\n",
            "2     Juan    22   Cartago       A\n",
            "3    Karla    22     Limón       A\n",
            "4  Ernesto    21   Heredia       B\n",
            "Index positions of 22 in Dataframe:\n",
            "(3, 'Ciudad')\n",
            "0    San Jose\n",
            "1     Heredia\n",
            "2     Cartago\n",
            "3       Limón\n",
            "4     Heredia\n",
            "Name: Ciudad, dtype: object\n",
            "--------------------------------------------------------\n",
            "Ingrese el nombre de la persona: Juan\n",
            "  Nombre  Edad   Ciudad Seccion\n",
            "2   Juan    22  Cartago       A\n"
          ]
        }
      ],
      "source": [
        "# Didier Miranda, Anthony Li, Gabriel Chavarria, Gabriel Jiménez\n",
        "import pandas as pd\n",
        "\n",
        "estudiantes=[('Ana',23,'San Jose','A'),\n",
        "          ('Esteban',22,'Heredia','B'),\n",
        "          ('Juan',22,'Cartago','A'),\n",
        "          ('Karla',22,'Limón','A'),\n",
        "          ('Ernesto',21,'Heredia','B')\n",
        "          ]\n",
        "\n",
        "df = pd.DataFrame(estudiantes,columns=['Nombre','Edad','Ciudad','Seccion'])\n",
        "print(df)\n",
        "\n",
        "def getIndexes(dfObj, value):\n",
        "\n",
        "  listOfPos=[]\n",
        "  result=dfObj.isin([value])\n",
        "  seriesObj=result.any()\n",
        "  columnNames = list(seriesObj[seriesObj == True].index)\n",
        "\n",
        "  for col in columnNames:\n",
        "    rows=list(result[col][result[col]==True].index)\n",
        "\n",
        "    for row in rows:\n",
        "      listOfPos.append((row,col))\n",
        "\n",
        "      return listOfPos\n",
        "\n",
        "listOfPositions=getIndexes(df,'Limón')\n",
        "\n",
        "print('Index positions of 22 in Dataframe:')\n",
        "\n",
        "for i in range(len(listOfPositions)):\n",
        "  print(listOfPositions[i])\n",
        "\n",
        "def funcion(dataframe, value):\n",
        "  if value in dataframe:\n",
        "    return dataframe[value]\n",
        "  else: print(\"Dato no encontrado\")\n",
        "\n",
        "print(funcion(df, 'Ciudad'))\n",
        "\n",
        "def encontrar_persona_por_nombre(dataframe, nombre):\n",
        "    persona = dataframe[dataframe['Nombre'] == nombre]\n",
        "    if persona.empty:\n",
        "        return None\n",
        "    else:\n",
        "        return persona\n",
        "\n",
        "\n",
        "print(\"--------------------------------------------------------\")\n",
        "\n",
        "nombre_buscado = input(\"Ingrese el nombre de la persona: \")\n",
        "\n",
        "print(encontrar_persona_por_nombre(df, nombre_buscado))"
      ]
    }
  ]
}